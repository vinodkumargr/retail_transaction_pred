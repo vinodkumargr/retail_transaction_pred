{
 "cells": [
  {
   "cell_type": "code",
   "execution_count": 13,
   "metadata": {
    "id": "Yc4lm4lT2trd"
   },
   "outputs": [],
   "source": [
    "import pandas as pd\n",
    "import numpy as np\n",
    "import matplotlib.pyplot as plt\n",
    "import seaborn as sns\n",
    "from pymongo import MongoClient"
   ]
  },
  {
   "cell_type": "code",
   "execution_count": 14,
   "metadata": {
    "colab": {
     "base_uri": "https://localhost:8080/",
     "height": 206
    },
    "id": "X8G5nU9d2tre",
    "outputId": "7325142b-3f55-4e7e-e97d-675eaefd136d",
    "scrolled": true
   },
   "outputs": [
    {
     "data": {
      "text/html": [
       "<div>\n",
       "<style scoped>\n",
       "    .dataframe tbody tr th:only-of-type {\n",
       "        vertical-align: middle;\n",
       "    }\n",
       "\n",
       "    .dataframe tbody tr th {\n",
       "        vertical-align: top;\n",
       "    }\n",
       "\n",
       "    .dataframe thead th {\n",
       "        text-align: right;\n",
       "    }\n",
       "</style>\n",
       "<table border=\"1\" class=\"dataframe\">\n",
       "  <thead>\n",
       "    <tr style=\"text-align: right;\">\n",
       "      <th></th>\n",
       "      <th>InvoiceNo</th>\n",
       "      <th>StockCode</th>\n",
       "      <th>Description</th>\n",
       "      <th>Quantity</th>\n",
       "      <th>InvoiceDate</th>\n",
       "      <th>UnitPrice</th>\n",
       "      <th>CustomerID</th>\n",
       "      <th>Country</th>\n",
       "    </tr>\n",
       "  </thead>\n",
       "  <tbody>\n",
       "    <tr>\n",
       "      <th>0</th>\n",
       "      <td>536365</td>\n",
       "      <td>85123A</td>\n",
       "      <td>WHITE HANGING HEART T-LIGHT HOLDER</td>\n",
       "      <td>6</td>\n",
       "      <td>2010-12-01 08:26:00</td>\n",
       "      <td>2.55</td>\n",
       "      <td>17850</td>\n",
       "      <td>United Kingdom</td>\n",
       "    </tr>\n",
       "    <tr>\n",
       "      <th>1</th>\n",
       "      <td>536365</td>\n",
       "      <td>71053</td>\n",
       "      <td>WHITE METAL LANTERN</td>\n",
       "      <td>6</td>\n",
       "      <td>2010-12-01 08:26:00</td>\n",
       "      <td>3.39</td>\n",
       "      <td>17850</td>\n",
       "      <td>United Kingdom</td>\n",
       "    </tr>\n",
       "    <tr>\n",
       "      <th>2</th>\n",
       "      <td>536365</td>\n",
       "      <td>84406B</td>\n",
       "      <td>CREAM CUPID HEARTS COAT HANGER</td>\n",
       "      <td>8</td>\n",
       "      <td>2010-12-01 08:26:00</td>\n",
       "      <td>2.75</td>\n",
       "      <td>17850</td>\n",
       "      <td>United Kingdom</td>\n",
       "    </tr>\n",
       "    <tr>\n",
       "      <th>3</th>\n",
       "      <td>536365</td>\n",
       "      <td>84029G</td>\n",
       "      <td>KNITTED UNION FLAG HOT WATER BOTTLE</td>\n",
       "      <td>6</td>\n",
       "      <td>2010-12-01 08:26:00</td>\n",
       "      <td>3.39</td>\n",
       "      <td>17850</td>\n",
       "      <td>United Kingdom</td>\n",
       "    </tr>\n",
       "    <tr>\n",
       "      <th>4</th>\n",
       "      <td>536365</td>\n",
       "      <td>84029E</td>\n",
       "      <td>RED WOOLLY HOTTIE WHITE HEART.</td>\n",
       "      <td>6</td>\n",
       "      <td>2010-12-01 08:26:00</td>\n",
       "      <td>3.39</td>\n",
       "      <td>17850</td>\n",
       "      <td>United Kingdom</td>\n",
       "    </tr>\n",
       "  </tbody>\n",
       "</table>\n",
       "</div>"
      ],
      "text/plain": [
       "  InvoiceNo StockCode                          Description  Quantity   \n",
       "0    536365    85123A   WHITE HANGING HEART T-LIGHT HOLDER         6  \\\n",
       "1    536365     71053                  WHITE METAL LANTERN         6   \n",
       "2    536365    84406B       CREAM CUPID HEARTS COAT HANGER         8   \n",
       "3    536365    84029G  KNITTED UNION FLAG HOT WATER BOTTLE         6   \n",
       "4    536365    84029E       RED WOOLLY HOTTIE WHITE HEART.         6   \n",
       "\n",
       "           InvoiceDate  UnitPrice  CustomerID         Country  \n",
       "0  2010-12-01 08:26:00       2.55       17850  United Kingdom  \n",
       "1  2010-12-01 08:26:00       3.39       17850  United Kingdom  \n",
       "2  2010-12-01 08:26:00       2.75       17850  United Kingdom  \n",
       "3  2010-12-01 08:26:00       3.39       17850  United Kingdom  \n",
       "4  2010-12-01 08:26:00       3.39       17850  United Kingdom  "
      ]
     },
     "execution_count": 14,
     "metadata": {},
     "output_type": "execute_result"
    }
   ],
   "source": [
    "df=pd.read_csv(\"Online_Retail.csv\")\n",
    "df.head(5)"
   ]
  },
  {
   "cell_type": "code",
   "execution_count": 15,
   "metadata": {
    "colab": {
     "base_uri": "https://localhost:8080/"
    },
    "id": "pk6ctOZF2trf",
    "outputId": "96f5f24a-4ced-479a-d20c-57337e1c955a"
   },
   "outputs": [
    {
     "name": "stdout",
     "output_type": "stream",
     "text": [
      "<class 'pandas.core.frame.DataFrame'>\n",
      "RangeIndex: 541909 entries, 0 to 541908\n",
      "Data columns (total 8 columns):\n",
      " #   Column       Non-Null Count   Dtype  \n",
      "---  ------       --------------   -----  \n",
      " 0   InvoiceNo    541909 non-null  object \n",
      " 1   StockCode    541909 non-null  object \n",
      " 2   Description  540455 non-null  object \n",
      " 3   Quantity     541909 non-null  int64  \n",
      " 4   InvoiceDate  541909 non-null  object \n",
      " 5   UnitPrice    541909 non-null  float64\n",
      " 6   CustomerID   541909 non-null  int64  \n",
      " 7   Country      541909 non-null  object \n",
      "dtypes: float64(1), int64(2), object(5)\n",
      "memory usage: 33.1+ MB\n"
     ]
    }
   ],
   "source": [
    "df.info()"
   ]
  },
  {
   "cell_type": "code",
   "execution_count": 16,
   "metadata": {
    "colab": {
     "base_uri": "https://localhost:8080/"
    },
    "id": "Z8PiPI_p2trf",
    "outputId": "1a04b3da-7500-4a22-a6cc-133f8e5425d2"
   },
   "outputs": [
    {
     "data": {
      "text/plain": [
       "(541909, 8)"
      ]
     },
     "execution_count": 16,
     "metadata": {},
     "output_type": "execute_result"
    }
   ],
   "source": [
    "df.shape"
   ]
  },
  {
   "cell_type": "code",
   "execution_count": 17,
   "metadata": {
    "colab": {
     "base_uri": "https://localhost:8080/"
    },
    "id": "HSx7tS2x2trf",
    "outputId": "e66443e9-d64f-47a4-aeef-3af2ea021958"
   },
   "outputs": [
    {
     "name": "stdout",
     "output_type": "stream",
     "text": [
      "InvoiceNo         0\n",
      "StockCode         0\n",
      "Description    1454\n",
      "Quantity          0\n",
      "InvoiceDate       0\n",
      "UnitPrice         0\n",
      "CustomerID        0\n",
      "Country           0\n",
      "dtype: int64\n"
     ]
    }
   ],
   "source": [
    "print(f\"{df.isnull().sum()}\")"
   ]
  },
  {
   "cell_type": "code",
   "execution_count": 18,
   "metadata": {
    "colab": {
     "base_uri": "https://localhost:8080/"
    },
    "id": "KcUbBHfI2trg",
    "outputId": "d1bb346a-f032-41b4-b8e3-01ec81b9c2d3"
   },
   "outputs": [
    {
     "data": {
      "text/plain": [
       "InvoiceNo      0\n",
       "StockCode      0\n",
       "Description    0\n",
       "Quantity       0\n",
       "InvoiceDate    0\n",
       "UnitPrice      0\n",
       "CustomerID     0\n",
       "Country        0\n",
       "dtype: int64"
      ]
     },
     "execution_count": 18,
     "metadata": {},
     "output_type": "execute_result"
    }
   ],
   "source": [
    "#since Description column have 1454 null values, dropping null values\n",
    "df.dropna(inplace=True, axis=0)\n",
    "df.isnull().sum()"
   ]
  },
  {
   "cell_type": "code",
   "execution_count": 19,
   "metadata": {
    "colab": {
     "base_uri": "https://localhost:8080/"
    },
    "id": "KcL8u7082trg",
    "outputId": "7512c2c1-de20-4538-c3e5-8d8ea59eec90"
   },
   "outputs": [
    {
     "data": {
      "text/plain": [
       "(540455, 8)"
      ]
     },
     "execution_count": 19,
     "metadata": {},
     "output_type": "execute_result"
    }
   ],
   "source": [
    "df.shape"
   ]
  },
  {
   "cell_type": "code",
   "execution_count": 20,
   "metadata": {
    "colab": {
     "base_uri": "https://localhost:8080/",
     "height": 143
    },
    "id": "KJx_o-X_2trg",
    "outputId": "68484a92-2c75-4326-e1e3-be45ba2b70ab"
   },
   "outputs": [
    {
     "data": {
      "text/html": [
       "<div>\n",
       "<style scoped>\n",
       "    .dataframe tbody tr th:only-of-type {\n",
       "        vertical-align: middle;\n",
       "    }\n",
       "\n",
       "    .dataframe tbody tr th {\n",
       "        vertical-align: top;\n",
       "    }\n",
       "\n",
       "    .dataframe thead th {\n",
       "        text-align: right;\n",
       "    }\n",
       "</style>\n",
       "<table border=\"1\" class=\"dataframe\">\n",
       "  <thead>\n",
       "    <tr style=\"text-align: right;\">\n",
       "      <th></th>\n",
       "      <th>Description</th>\n",
       "      <th>Quantity</th>\n",
       "      <th>InvoiceDate</th>\n",
       "      <th>UnitPrice</th>\n",
       "      <th>Country</th>\n",
       "    </tr>\n",
       "  </thead>\n",
       "  <tbody>\n",
       "    <tr>\n",
       "      <th>0</th>\n",
       "      <td>WHITE HANGING HEART T-LIGHT HOLDER</td>\n",
       "      <td>6</td>\n",
       "      <td>2010-12-01 08:26:00</td>\n",
       "      <td>2.55</td>\n",
       "      <td>United Kingdom</td>\n",
       "    </tr>\n",
       "    <tr>\n",
       "      <th>1</th>\n",
       "      <td>WHITE METAL LANTERN</td>\n",
       "      <td>6</td>\n",
       "      <td>2010-12-01 08:26:00</td>\n",
       "      <td>3.39</td>\n",
       "      <td>United Kingdom</td>\n",
       "    </tr>\n",
       "    <tr>\n",
       "      <th>2</th>\n",
       "      <td>CREAM CUPID HEARTS COAT HANGER</td>\n",
       "      <td>8</td>\n",
       "      <td>2010-12-01 08:26:00</td>\n",
       "      <td>2.75</td>\n",
       "      <td>United Kingdom</td>\n",
       "    </tr>\n",
       "  </tbody>\n",
       "</table>\n",
       "</div>"
      ],
      "text/plain": [
       "                          Description  Quantity          InvoiceDate   \n",
       "0  WHITE HANGING HEART T-LIGHT HOLDER         6  2010-12-01 08:26:00  \\\n",
       "1                 WHITE METAL LANTERN         6  2010-12-01 08:26:00   \n",
       "2      CREAM CUPID HEARTS COAT HANGER         8  2010-12-01 08:26:00   \n",
       "\n",
       "   UnitPrice         Country  \n",
       "0       2.55  United Kingdom  \n",
       "1       3.39  United Kingdom  \n",
       "2       2.75  United Kingdom  "
      ]
     },
     "execution_count": 20,
     "metadata": {},
     "output_type": "execute_result"
    }
   ],
   "source": [
    "df.drop(columns=['InvoiceNo','StockCode','CustomerID'], axis=1, inplace=True)\n",
    "df.head(3)"
   ]
  },
  {
   "cell_type": "code",
   "execution_count": 21,
   "metadata": {
    "colab": {
     "base_uri": "https://localhost:8080/"
    },
    "id": "-qYmmGzk2trg",
    "outputId": "b1495da7-698c-4430-976f-cc6469258a92"
   },
   "outputs": [
    {
     "name": "stdout",
     "output_type": "stream",
     "text": [
      "<class 'pandas.core.frame.DataFrame'>\n",
      "Index: 540455 entries, 0 to 541908\n",
      "Data columns (total 5 columns):\n",
      " #   Column       Non-Null Count   Dtype         \n",
      "---  ------       --------------   -----         \n",
      " 0   Description  540455 non-null  object        \n",
      " 1   Quantity     540455 non-null  int64         \n",
      " 2   InvoiceDate  540455 non-null  datetime64[ns]\n",
      " 3   UnitPrice    540455 non-null  float64       \n",
      " 4   Country      540455 non-null  object        \n",
      "dtypes: datetime64[ns](1), float64(1), int64(1), object(2)\n",
      "memory usage: 24.7+ MB\n"
     ]
    }
   ],
   "source": [
    "# converting InvoiceDate dtype into Datetimd\n",
    "df['InvoiceDate'] = pd.to_datetime(df['InvoiceDate'])\n",
    "df.info()"
   ]
  },
  {
   "cell_type": "code",
   "execution_count": 22,
   "metadata": {
    "colab": {
     "base_uri": "https://localhost:8080/",
     "height": 206
    },
    "id": "v164Qvwk2trg",
    "outputId": "389d14ba-a035-44f3-a54e-25e6139cacb9"
   },
   "outputs": [
    {
     "data": {
      "text/html": [
       "<div>\n",
       "<style scoped>\n",
       "    .dataframe tbody tr th:only-of-type {\n",
       "        vertical-align: middle;\n",
       "    }\n",
       "\n",
       "    .dataframe tbody tr th {\n",
       "        vertical-align: top;\n",
       "    }\n",
       "\n",
       "    .dataframe thead th {\n",
       "        text-align: right;\n",
       "    }\n",
       "</style>\n",
       "<table border=\"1\" class=\"dataframe\">\n",
       "  <thead>\n",
       "    <tr style=\"text-align: right;\">\n",
       "      <th></th>\n",
       "      <th>Description</th>\n",
       "      <th>Quantity</th>\n",
       "      <th>UnitPrice</th>\n",
       "      <th>Country</th>\n",
       "      <th>Day</th>\n",
       "      <th>Month</th>\n",
       "      <th>Year</th>\n",
       "    </tr>\n",
       "  </thead>\n",
       "  <tbody>\n",
       "    <tr>\n",
       "      <th>0</th>\n",
       "      <td>WHITE HANGING HEART T-LIGHT HOLDER</td>\n",
       "      <td>6</td>\n",
       "      <td>2.55</td>\n",
       "      <td>United Kingdom</td>\n",
       "      <td>1</td>\n",
       "      <td>12</td>\n",
       "      <td>10</td>\n",
       "    </tr>\n",
       "    <tr>\n",
       "      <th>1</th>\n",
       "      <td>WHITE METAL LANTERN</td>\n",
       "      <td>6</td>\n",
       "      <td>3.39</td>\n",
       "      <td>United Kingdom</td>\n",
       "      <td>1</td>\n",
       "      <td>12</td>\n",
       "      <td>10</td>\n",
       "    </tr>\n",
       "    <tr>\n",
       "      <th>2</th>\n",
       "      <td>CREAM CUPID HEARTS COAT HANGER</td>\n",
       "      <td>8</td>\n",
       "      <td>2.75</td>\n",
       "      <td>United Kingdom</td>\n",
       "      <td>1</td>\n",
       "      <td>12</td>\n",
       "      <td>10</td>\n",
       "    </tr>\n",
       "    <tr>\n",
       "      <th>3</th>\n",
       "      <td>KNITTED UNION FLAG HOT WATER BOTTLE</td>\n",
       "      <td>6</td>\n",
       "      <td>3.39</td>\n",
       "      <td>United Kingdom</td>\n",
       "      <td>1</td>\n",
       "      <td>12</td>\n",
       "      <td>10</td>\n",
       "    </tr>\n",
       "    <tr>\n",
       "      <th>4</th>\n",
       "      <td>RED WOOLLY HOTTIE WHITE HEART.</td>\n",
       "      <td>6</td>\n",
       "      <td>3.39</td>\n",
       "      <td>United Kingdom</td>\n",
       "      <td>1</td>\n",
       "      <td>12</td>\n",
       "      <td>10</td>\n",
       "    </tr>\n",
       "  </tbody>\n",
       "</table>\n",
       "</div>"
      ],
      "text/plain": [
       "                           Description  Quantity  UnitPrice         Country   \n",
       "0   WHITE HANGING HEART T-LIGHT HOLDER         6       2.55  United Kingdom  \\\n",
       "1                  WHITE METAL LANTERN         6       3.39  United Kingdom   \n",
       "2       CREAM CUPID HEARTS COAT HANGER         8       2.75  United Kingdom   \n",
       "3  KNITTED UNION FLAG HOT WATER BOTTLE         6       3.39  United Kingdom   \n",
       "4       RED WOOLLY HOTTIE WHITE HEART.         6       3.39  United Kingdom   \n",
       "\n",
       "   Day  Month  Year  \n",
       "0    1     12    10  \n",
       "1    1     12    10  \n",
       "2    1     12    10  \n",
       "3    1     12    10  \n",
       "4    1     12    10  "
      ]
     },
     "execution_count": 22,
     "metadata": {},
     "output_type": "execute_result"
    }
   ],
   "source": [
    "# creating date column from InvoiceDate\n",
    "df['Day']=df['InvoiceDate'].dt.day\n",
    "df['Month']=df['InvoiceDate'].dt.month\n",
    "df['Year']=df['InvoiceDate'].dt.year - 2000\n",
    "\n",
    "#df['Hour']=df['InvoiceDate'].dt.hour\n",
    "#df['Minute']=df['InvoiceDate'].dt.minute\n",
    "\n",
    "df.drop(columns=['InvoiceDate'], axis=1, inplace=True)\n",
    "df.head(5)"
   ]
  },
  {
   "cell_type": "code",
   "execution_count": 23,
   "metadata": {
    "colab": {
     "base_uri": "https://localhost:8080/"
    },
    "id": "I_f3s5LO2trh",
    "outputId": "c7bdeaa8-b7cc-43c6-947a-3d27371b0d0e"
   },
   "outputs": [
    {
     "data": {
      "text/plain": [
       "array([     6,      8,      2,     32,      3,      4,     24,     12,\n",
       "           48,     18,     20,     36,     80,     64,     10,    120,\n",
       "           96,     23,      5,      1,     -1,     50,     40,    100,\n",
       "          192,    432,    144,    288,    -12,    -24,     16,      9,\n",
       "          128,     25,     30,     28,      7,     72,    200,    600,\n",
       "          480,     -6,     14,     -2,     11,     33,     13,     -4,\n",
       "           -5,     -7,     -3,     70,    252,     60,    216,    384,\n",
       "           27,     15,     22,     19,     17,     21,     34,     47,\n",
       "          108,     52,  -9360,     75,    270,     42,    240,     90,\n",
       "          320,   1824,    204,     69,    -36,   -192,   -144,    160,\n",
       "         2880,   1400,     39,    -48,    -50,     56,     26,   1440,\n",
       "           31,     82,     78,     97,     98,     35,    -30,     -8,\n",
       "          720,    -20,    156,    324,     38,     37,     49,     95,\n",
       "           -9,    -11,     29,     41,    -10,    -72,    -35,    -43,\n",
       "          402,    378,    150,    300,     54,    104,     67,    258,\n",
       "           66,     44,     55,     46,     99,     61,    408,    972,\n",
       "          208,   1008,   1000,    -25,   1488,    250,   1394,    400,\n",
       "          110,    -14,    -13,    -33,   -723,   -100,    272,     84,\n",
       "          -47,    -18,    -96,    -15,    113,     45,    106,     68,\n",
       "          267,    115,     65,   1728,    -60,    -16,     53,   -240,\n",
       "           76,     71,     43,    213,     58,    576,    -32,   2400,\n",
       "          500,    -80,    180,   -300,   -500,    -23,    752,    960,\n",
       "          -21,   1296,    210,    172,     57,     79,    215,    129,\n",
       "          138,    116,    135,    197,   -106,   -150,    -54,    -17,\n",
       "          147,    168,    256,    -40,    -29,  -2600,   -990,   -290,\n",
       "          860,   1010,   1356,   1284,    186,    114,    360,   1930,\n",
       "         2000,   3114,   1300,    670,    111,    211,     59,   -310,\n",
       "          176,    648,     62,  74215, -74215,     89,  -1400,     73,\n",
       "          -57,   -120,    112,    456,    -59,    900,   -600,    -42,\n",
       "          -94,   -207,    130,   2592,    420,    800,    101,   1200,\n",
       "          864,     94,  -1430,   -162,   -230,   -390,    504,    123,\n",
       "          -76,   -200,    -64,   1056,   1500,    280,    407,    141,\n",
       "          124,   -741,   3906,   -400,    102,   1152,    198,    117,\n",
       "           86,   -720,    125,    -86,    228,   -154,  -3000,     81,\n",
       "          -19,   -675,   -210,   -345,   -975,  -1200,  -1121,    -27,\n",
       "         -541,  -1277,   -197,   3000,  -1100,    -63,  -5368,   -259,\n",
       "         -178,    170,   -110,    768,     88,    700,   -102,   2160,\n",
       "         -323,   -450,   -232,   -524,  -2472,    -49,    342,    304,\n",
       "          640,    175,    220,     74,     93,    164,    163,     63,\n",
       "          637,    122,    158,    165,    118,    350,   -690,    -39,\n",
       "          -46,     83,    312,    392,   -624,    -26,  -1479,   -576,\n",
       "         -750,    330,    151,    -93,   -432,    -58,   -670,  -1300,\n",
       "        -1930,  -2000,  -3114,    462,    -65,    -68,    492,    -53,\n",
       "          273,  -1512,     85,    -51,     51,   -360,    105,   -960,\n",
       "        -2376,   1350,    428,  -1350,   -160,    336,   -786,   -590,\n",
       "          132,   -413,   -664,    227,   2700,    222,    246,    906,\n",
       "          756,    888,    552,    -97,    224,    738,    608,   -212,\n",
       "         4300,    146,    143,    276,    -52,   -125,   -140,   -108,\n",
       "         4000,   -304,   -272,  -1206,    -95,   1600,    323,   -161,\n",
       "          -84,   -618,   -204,    -22,   1515,  -1515,  -9058,  -9600,\n",
       "          660,   -420,   -220,   -271,  -1440,    264,    188,    588,\n",
       "          612,    152,   -324,   -480,   -164,   -118,    430,  -1681,\n",
       "           87,    155,    701,    828,    540,    696,    560,   -250,\n",
       "         -408,    121,   -124,    512,   -251,  -3100,   3100,    -37,\n",
       "          126,    291,   3186,    140,    -28,    -75,    109,   -121,\n",
       "         -227,    261,    352,    142,  -1060,   -342,   -288,    -90,\n",
       "          348,   1900,    157,    968,    684,    824,   -828,   -701,\n",
       "          196,    248,    410,    236,    230,    145,    448,   -109,\n",
       "         -252,   -334,   -318,   -126,   -113,   -180,    840,   -967,\n",
       "         -203,   -156,   -443,  -1897,   -434,    -38,   -484,   -635,\n",
       "          450,    310,    494,   -384,    -44,     92,   1788,    624,\n",
       "          744,    416,    496,    396,    306,   1878,   1944,    666,\n",
       "          708,   1428,    852,   1412,    528,   -756,   -752,   -152,\n",
       "          -85,    -34,   -312,    -79,    -31,   -131,    183,   -186,\n",
       "          -82,    -70,   -231,   -458,  -2880,   1540,   -130,    672,\n",
       "         -800,   -430,    -45,   -380,    -74,    -61,   -840,  -1296,\n",
       "         -365,   -270,   -306,     91,    255,    468,   -468,   -168,\n",
       "          -71,   -111,    -78,   -184,   -103,   -335,   4800,    -66,\n",
       "         -112,  -1000,    912,    -77,   1992,    136,    184,   -138,\n",
       "          148,   -657,  -1671,  -1158,  -2618,  -2003,   -674,  -4830,\n",
       "         -905,  -1128,    -67,    232,    832,    992,    630,   1020,\n",
       "         2100,    162,    -62,   -104,  -1560,  -1284,    -81,    314,\n",
       "          370,    131,    133,    484,    149,    153,    257,    139,\n",
       "          137,    628,    245,    171,    179,   1820,    478,    335,\n",
       "          253,    242,    375,   -276,   -256,    225,    281,    193,\n",
       "          181,    404,    244,    207,    199,   1130,    326,    654,\n",
       "          688,    268,    249,   -864,   -117,    234,  -1510,   -550,\n",
       "          -92,   -244,   -234,   -132,    -41,   -209,   -327,    219,\n",
       "         -313,    279,   -398,   -280,    374,   -170,   -504,   -696,\n",
       "         -101,    -56,   -149,   -224,   -428,   -179,    212,   -267,\n",
       "         -175,  12540,    760,    -98,    774,   2040,   -145,   -153,\n",
       "        -1131,   -135,   1120,     77,    -73,   -900,    177,    490,\n",
       "          388,    620,   1404,   -155,   -355,    -55,    -87,   -337,\n",
       "        -1050,   -338,    205,   -235,    698,  80995, -80995])"
      ]
     },
     "execution_count": 23,
     "metadata": {},
     "output_type": "execute_result"
    }
   ],
   "source": [
    "df.Quantity.unique()"
   ]
  },
  {
   "cell_type": "code",
   "execution_count": 24,
   "metadata": {
    "colab": {
     "base_uri": "https://localhost:8080/"
    },
    "id": "lRaI_W9z2trh",
    "outputId": "d0b239ce-ef59-4f75-f0f4-e45e6dfc78c2"
   },
   "outputs": [
    {
     "data": {
      "text/plain": [
       "Index([   141,    154,    235,    236,    237,    238,    239,    240,    241,\n",
       "          939,\n",
       "       ...\n",
       "       540141, 540142, 540176, 540422, 540448, 540449, 541541, 541715, 541716,\n",
       "       541717],\n",
       "      dtype='int64', length=9762)"
      ]
     },
     "execution_count": 24,
     "metadata": {},
     "output_type": "execute_result"
    }
   ],
   "source": [
    "# negative values can't consider for quantity(drop)\n",
    "df[df['Quantity'] < 1].index"
   ]
  },
  {
   "cell_type": "code",
   "execution_count": 25,
   "metadata": {
    "colab": {
     "base_uri": "https://localhost:8080/"
    },
    "id": "Po0P1uoW2trh",
    "outputId": "649cf1cb-7486-4c21-bf05-d43518e4e273"
   },
   "outputs": [
    {
     "data": {
      "text/plain": [
       "(530693, 7)"
      ]
     },
     "execution_count": 25,
     "metadata": {},
     "output_type": "execute_result"
    }
   ],
   "source": [
    "# negative quantity cannot be considerable, so drop those\n",
    "df.drop(df[df['Quantity'] < 1].index, axis=0, inplace=True)\n",
    "df.shape"
   ]
  },
  {
   "cell_type": "code",
   "execution_count": 26,
   "metadata": {
    "colab": {
     "base_uri": "https://localhost:8080/"
    },
    "id": "EYhDDHMb2trh",
    "outputId": "d2a385aa-bbca-4762-f0fc-87e5796befda"
   },
   "outputs": [
    {
     "data": {
      "text/plain": [
       "Index([], dtype='int64')"
      ]
     },
     "execution_count": 26,
     "metadata": {},
     "output_type": "execute_result"
    }
   ],
   "source": [
    "df[df['Quantity'] < 1].index"
   ]
  },
  {
   "cell_type": "code",
   "execution_count": 27,
   "metadata": {
    "colab": {
     "base_uri": "https://localhost:8080/",
     "height": 175
    },
    "id": "ofdLocub2trh",
    "outputId": "4bc60716-0146-4923-fe9b-77935ca0e12c"
   },
   "outputs": [
    {
     "data": {
      "text/html": [
       "<div>\n",
       "<style scoped>\n",
       "    .dataframe tbody tr th:only-of-type {\n",
       "        vertical-align: middle;\n",
       "    }\n",
       "\n",
       "    .dataframe tbody tr th {\n",
       "        vertical-align: top;\n",
       "    }\n",
       "\n",
       "    .dataframe thead th {\n",
       "        text-align: right;\n",
       "    }\n",
       "</style>\n",
       "<table border=\"1\" class=\"dataframe\">\n",
       "  <thead>\n",
       "    <tr style=\"text-align: right;\">\n",
       "      <th></th>\n",
       "      <th>Description</th>\n",
       "      <th>Quantity</th>\n",
       "      <th>UnitPrice</th>\n",
       "      <th>Country</th>\n",
       "      <th>Day</th>\n",
       "      <th>Month</th>\n",
       "      <th>Year</th>\n",
       "    </tr>\n",
       "  </thead>\n",
       "  <tbody>\n",
       "    <tr>\n",
       "      <th>0</th>\n",
       "      <td>WHITE HANGING HEART T-LIGHT HOLDER</td>\n",
       "      <td>6</td>\n",
       "      <td>2.55</td>\n",
       "      <td>United Kingdom</td>\n",
       "      <td>1</td>\n",
       "      <td>12</td>\n",
       "      <td>10</td>\n",
       "    </tr>\n",
       "    <tr>\n",
       "      <th>1</th>\n",
       "      <td>WHITE METAL LANTERN</td>\n",
       "      <td>6</td>\n",
       "      <td>3.39</td>\n",
       "      <td>United Kingdom</td>\n",
       "      <td>1</td>\n",
       "      <td>12</td>\n",
       "      <td>10</td>\n",
       "    </tr>\n",
       "    <tr>\n",
       "      <th>2</th>\n",
       "      <td>CREAM CUPID HEARTS COAT HANGER</td>\n",
       "      <td>8</td>\n",
       "      <td>2.75</td>\n",
       "      <td>United Kingdom</td>\n",
       "      <td>1</td>\n",
       "      <td>12</td>\n",
       "      <td>10</td>\n",
       "    </tr>\n",
       "    <tr>\n",
       "      <th>3</th>\n",
       "      <td>KNITTED UNION FLAG HOT WATER BOTTLE</td>\n",
       "      <td>6</td>\n",
       "      <td>3.39</td>\n",
       "      <td>United Kingdom</td>\n",
       "      <td>1</td>\n",
       "      <td>12</td>\n",
       "      <td>10</td>\n",
       "    </tr>\n",
       "  </tbody>\n",
       "</table>\n",
       "</div>"
      ],
      "text/plain": [
       "                           Description  Quantity  UnitPrice         Country   \n",
       "0   WHITE HANGING HEART T-LIGHT HOLDER         6       2.55  United Kingdom  \\\n",
       "1                  WHITE METAL LANTERN         6       3.39  United Kingdom   \n",
       "2       CREAM CUPID HEARTS COAT HANGER         8       2.75  United Kingdom   \n",
       "3  KNITTED UNION FLAG HOT WATER BOTTLE         6       3.39  United Kingdom   \n",
       "\n",
       "   Day  Month  Year  \n",
       "0    1     12    10  \n",
       "1    1     12    10  \n",
       "2    1     12    10  \n",
       "3    1     12    10  "
      ]
     },
     "execution_count": 27,
     "metadata": {},
     "output_type": "execute_result"
    }
   ],
   "source": [
    "df.head(4)"
   ]
  },
  {
   "cell_type": "code",
   "execution_count": 28,
   "metadata": {
    "colab": {
     "base_uri": "https://localhost:8080/"
    },
    "id": "3lElufFn2tri",
    "outputId": "949d632f-48d5-4f2f-e57c-b59fdd29aee7"
   },
   "outputs": [
    {
     "data": {
      "text/plain": [
       "UnitPrice\n",
       "1.25       49753\n",
       "1.65       37498\n",
       "0.85       28061\n",
       "2.95       27106\n",
       "0.42       24302\n",
       "           ...  \n",
       "156.45         1\n",
       "28.66          1\n",
       "46.86          1\n",
       "84.21          1\n",
       "1714.17        1\n",
       "Name: count, Length: 1293, dtype: int64"
      ]
     },
     "execution_count": 28,
     "metadata": {},
     "output_type": "execute_result"
    }
   ],
   "source": [
    "df.UnitPrice.value_counts()"
   ]
  },
  {
   "cell_type": "code",
   "execution_count": 29,
   "metadata": {
    "colab": {
     "base_uri": "https://localhost:8080/"
    },
    "id": "O41fKr90ErR-",
    "outputId": "3e6fb434-f332-4306-9578-47b6a71a7ac1"
   },
   "outputs": [
    {
     "name": "stdout",
     "output_type": "stream",
     "text": [
      "Index([], dtype='int64')\n",
      "(419211, 7)\n"
     ]
    }
   ],
   "source": [
    "#dropping unitprice less than 1 (0 also cannot be price of item)\n",
    "\n",
    "df.drop(df[df['UnitPrice']<1].index, axis=0, inplace=True)\n",
    "print(f\"{df[df['UnitPrice']<1].index}\")\n",
    "print(f\"{df.shape}\")"
   ]
  },
  {
   "cell_type": "code",
   "execution_count": 30,
   "metadata": {
    "colab": {
     "base_uri": "https://localhost:8080/",
     "height": 1000
    },
    "id": "mXMoSPpi2tri",
    "outputId": "de9c80ab-1cce-4434-bb61-be0aa886a0e9"
   },
   "outputs": [
    {
     "data": {
      "image/png": "[encoded data removed]",
      "text/plain": [
       "<Figure size 640x480 with 1 Axes>"
      ]
     },
     "metadata": {},
     "output_type": "display_data"
    },
    {
     "data": {
      "image/png": "[encoded data removed]",
      "text/plain": [
       "<Figure size 640x480 with 1 Axes>"
      ]
     },
     "metadata": {},
     "output_type": "display_data"
    },
    {
     "data": {
      "image/png": "[encoded data removed]",
      "text/plain": [
       "<Figure size 640x480 with 1 Axes>"
      ]
     },
     "metadata": {},
     "output_type": "display_data"
    },
    {
     "data": {
      "image/png": "[encoded data removed]",
      "text/plain": [
       "<Figure size 640x480 with 1 Axes>"
      ]
     },
     "metadata": {},
     "output_type": "display_data"
    },
    {
     "data": {
      "image/png": "[encoded data removed]",
      "text/plain": [
       "<Figure size 640x480 with 1 Axes>"
      ]
     },
     "metadata": {},
     "output_type": "display_data"
    }
   ],
   "source": [
    "for column in df.select_dtypes(include=np.number):\n",
    "    sns.boxplot(df[column])\n",
    "    plt.title(column)\n",
    "    plt.show()"
   ]
  },
  {
   "cell_type": "code",
   "execution_count": 31,
   "metadata": {
    "colab": {
     "base_uri": "https://localhost:8080/"
    },
    "id": "OP97NC3XFeJz",
    "outputId": "bea9f4d6-226f-4383-bf15-7a035d7fd84c"
   },
   "outputs": [
    {
     "data": {
      "text/plain": [
       "(10759, 7)"
      ]
     },
     "execution_count": 31,
     "metadata": {},
     "output_type": "execute_result"
    }
   ],
   "source": [
    "# i have drop whose quantity >40\n",
    "df[df['Quantity']>40].shape"
   ]
  },
  {
   "cell_type": "code",
   "execution_count": 32,
   "metadata": {
    "colab": {
     "base_uri": "https://localhost:8080/"
    },
    "id": "n6ISRIh3FeQB",
    "outputId": "3cb47baa-f0f4-4a6d-f48a-95caf5cab697"
   },
   "outputs": [
    {
     "name": "stdout",
     "output_type": "stream",
     "text": [
      "(0, 7)\n",
      "(408452, 7)\n"
     ]
    }
   ],
   "source": [
    "df.drop(df[df['Quantity']>40].index, axis=0, inplace=True)\n",
    "print(f\"{df[df['Quantity']>40].shape}\")\n",
    "print(f\"{df.shape}\")"
   ]
  },
  {
   "cell_type": "code",
   "execution_count": 33,
   "metadata": {
    "colab": {
     "base_uri": "https://localhost:8080/"
    },
    "id": "L2D6gHIFFeVs",
    "outputId": "a059693a-1186-41ed-b047-4741050bc33e"
   },
   "outputs": [
    {
     "data": {
      "text/plain": [
       "(1684, 7)"
      ]
     },
     "execution_count": 33,
     "metadata": {},
     "output_type": "execute_result"
    }
   ],
   "source": [
    "# dropped whose unitprice >30\n",
    "df[df['UnitPrice']>30].shape"
   ]
  },
  {
   "cell_type": "code",
   "execution_count": 34,
   "metadata": {
    "colab": {
     "base_uri": "https://localhost:8080/"
    },
    "id": "ToGwqHsuGpFe",
    "outputId": "0fc0bf5a-dadf-4e73-ba13-51522ca03110"
   },
   "outputs": [
    {
     "name": "stdout",
     "output_type": "stream",
     "text": [
      "(0, 7)\n",
      "(406768, 7)\n"
     ]
    }
   ],
   "source": [
    "df.drop(df[df['UnitPrice']>30].index, axis=0, inplace=True)\n",
    "print(f\"{df[df['UnitPrice']>30].shape}\")\n",
    "print(f\"{df.shape}\")"
   ]
  },
  {
   "cell_type": "code",
   "execution_count": 35,
   "metadata": {
    "colab": {
     "base_uri": "https://localhost:8080/"
    },
    "id": "d1ltC0wU2tri",
    "outputId": "264ed7bd-8a78-44c5-9d3c-6008f6f6ed62"
   },
   "outputs": [
    {
     "name": "stdout",
     "output_type": "stream",
     "text": [
      "<class 'pandas.core.frame.DataFrame'>\n",
      "Index: 406768 entries, 0 to 541908\n",
      "Data columns (total 7 columns):\n",
      " #   Column       Non-Null Count   Dtype  \n",
      "---  ------       --------------   -----  \n",
      " 0   Description  406768 non-null  object \n",
      " 1   Quantity     406768 non-null  int64  \n",
      " 2   UnitPrice    406768 non-null  float64\n",
      " 3   Country      406768 non-null  object \n",
      " 4   Day          406768 non-null  int32  \n",
      " 5   Month        406768 non-null  int32  \n",
      " 6   Year         406768 non-null  int32  \n",
      "dtypes: float64(1), int32(3), int64(1), object(2)\n",
      "memory usage: 20.2+ MB\n"
     ]
    }
   ],
   "source": [
    "df.info()"
   ]
  },
  {
   "cell_type": "code",
   "execution_count": 36,
   "metadata": {
    "colab": {
     "base_uri": "https://localhost:8080/"
    },
    "id": "ezWH4sei2tri",
    "outputId": "9a136b5e-21bb-42c6-fc64-672a1e96e623"
   },
   "outputs": [
    {
     "data": {
      "text/plain": [
       "dtype('int64')"
      ]
     },
     "execution_count": 36,
     "metadata": {},
     "output_type": "execute_result"
    }
   ],
   "source": [
    "#convert unitprice into int\n",
    "df.UnitPrice =df.UnitPrice.astype(int)\n",
    "df.UnitPrice.dtype"
   ]
  },
  {
   "cell_type": "code",
   "execution_count": 37,
   "metadata": {
    "colab": {
     "base_uri": "https://localhost:8080/",
     "height": 143
    },
    "id": "KLhiMasZ2trj",
    "outputId": "b66fcd86-2252-4dbd-8e4a-664eebc226da"
   },
   "outputs": [
    {
     "data": {
      "text/html": [
       "<div>\n",
       "<style scoped>\n",
       "    .dataframe tbody tr th:only-of-type {\n",
       "        vertical-align: middle;\n",
       "    }\n",
       "\n",
       "    .dataframe tbody tr th {\n",
       "        vertical-align: top;\n",
       "    }\n",
       "\n",
       "    .dataframe thead th {\n",
       "        text-align: right;\n",
       "    }\n",
       "</style>\n",
       "<table border=\"1\" class=\"dataframe\">\n",
       "  <thead>\n",
       "    <tr style=\"text-align: right;\">\n",
       "      <th></th>\n",
       "      <th>Description</th>\n",
       "      <th>Quantity</th>\n",
       "      <th>UnitPrice</th>\n",
       "      <th>Country</th>\n",
       "      <th>Day</th>\n",
       "      <th>Month</th>\n",
       "      <th>Year</th>\n",
       "    </tr>\n",
       "  </thead>\n",
       "  <tbody>\n",
       "    <tr>\n",
       "      <th>0</th>\n",
       "      <td>WHITE HANGING HEART T-LIGHT HOLDER</td>\n",
       "      <td>6</td>\n",
       "      <td>2</td>\n",
       "      <td>United Kingdom</td>\n",
       "      <td>1</td>\n",
       "      <td>12</td>\n",
       "      <td>10</td>\n",
       "    </tr>\n",
       "    <tr>\n",
       "      <th>1</th>\n",
       "      <td>WHITE METAL LANTERN</td>\n",
       "      <td>6</td>\n",
       "      <td>3</td>\n",
       "      <td>United Kingdom</td>\n",
       "      <td>1</td>\n",
       "      <td>12</td>\n",
       "      <td>10</td>\n",
       "    </tr>\n",
       "    <tr>\n",
       "      <th>2</th>\n",
       "      <td>CREAM CUPID HEARTS COAT HANGER</td>\n",
       "      <td>8</td>\n",
       "      <td>2</td>\n",
       "      <td>United Kingdom</td>\n",
       "      <td>1</td>\n",
       "      <td>12</td>\n",
       "      <td>10</td>\n",
       "    </tr>\n",
       "  </tbody>\n",
       "</table>\n",
       "</div>"
      ],
      "text/plain": [
       "                          Description  Quantity  UnitPrice         Country   \n",
       "0  WHITE HANGING HEART T-LIGHT HOLDER         6          2  United Kingdom  \\\n",
       "1                 WHITE METAL LANTERN         6          3  United Kingdom   \n",
       "2      CREAM CUPID HEARTS COAT HANGER         8          2  United Kingdom   \n",
       "\n",
       "   Day  Month  Year  \n",
       "0    1     12    10  \n",
       "1    1     12    10  \n",
       "2    1     12    10  "
      ]
     },
     "execution_count": 37,
     "metadata": {},
     "output_type": "execute_result"
    }
   ],
   "source": [
    "df.head(3)"
   ]
  },
  {
   "cell_type": "code",
   "execution_count": 38,
   "metadata": {
    "colab": {
     "base_uri": "https://localhost:8080/",
     "height": 1000
    },
    "id": "spbgTc4vJBlx",
    "outputId": "00cd6fde-0e1d-4093-b223-1c732c4e9f7c"
   },
   "outputs": [
    {
     "data": {
      "image/png": "[encoded data removed]",
      "text/plain": [
       "<Figure size 640x480 with 1 Axes>"
      ]
     },
     "metadata": {},
     "output_type": "display_data"
    },
    {
     "data": {
      "image/png": "[encoded data removed]",
      "text/plain": [
       "<Figure size 640x480 with 1 Axes>"
      ]
     },
     "metadata": {},
     "output_type": "display_data"
    },
    {
     "data": {
      "image/png": "[encoded data removed]",
      "text/plain": [
       "<Figure size 640x480 with 1 Axes>"
      ]
     },
     "metadata": {},
     "output_type": "display_data"
    },
    {
     "data": {
      "image/png": "[encoded data removed]",
      "text/plain": [
       "<Figure size 640x480 with 1 Axes>"
      ]
     },
     "metadata": {},
     "output_type": "display_data"
    },
    {
     "data": {
      "image/png": "[encoded data removed]",
      "text/plain": [
       "<Figure size 640x480 with 1 Axes>"
      ]
     },
     "metadata": {},
     "output_type": "display_data"
    }
   ],
   "source": [
    "for column in df.select_dtypes(include=np.number):\n",
    "    sns.boxplot(df[column])\n",
    "    plt.title(column)\n",
    "    plt.show()"
   ]
  },
  {
   "cell_type": "code",
   "execution_count": 39,
   "metadata": {
    "colab": {
     "base_uri": "https://localhost:8080/"
    },
    "id": "Jy_kMGbN2trj",
    "outputId": "6d1a7c82-c512-4ded-8fc7-5681609e4969"
   },
   "outputs": [
    {
     "data": {
      "text/plain": [
       "Country\n",
       "United Kingdom          374963\n",
       "Germany                   6757\n",
       "France                    6206\n",
       "EIRE                      5687\n",
       "Spain                     1940\n",
       "Belgium                   1525\n",
       "Switzerland               1398\n",
       "Portugal                  1148\n",
       "Norway                     763\n",
       "Netherlands                710\n",
       "Italy                      637\n",
       "Channel Islands            600\n",
       "Australia                  555\n",
       "Cyprus                     519\n",
       "Finland                    449\n",
       "Unspecified                330\n",
       "Austria                    298\n",
       "Poland                     263\n",
       "Denmark                    262\n",
       "Hong Kong                  221\n",
       "Israel                     205\n",
       "Sweden                     201\n",
       "Singapore                  143\n",
       "Iceland                    137\n",
       "USA                        127\n",
       "Greece                     116\n",
       "Japan                      112\n",
       "Canada                      98\n",
       "Malta                       98\n",
       "RSA                         54\n",
       "European Community          52\n",
       "United Arab Emirates        50\n",
       "Lebanon                     43\n",
       "Lithuania                   34\n",
       "Brazil                      31\n",
       "Bahrain                     15\n",
       "Czech Republic              13\n",
       "Saudi Arabia                 8\n",
       "Name: count, dtype: int64"
      ]
     },
     "execution_count": 39,
     "metadata": {},
     "output_type": "execute_result"
    }
   ],
   "source": [
    "df.Country.value_counts()"
   ]
  },
  {
   "cell_type": "code",
   "execution_count": 40,
   "metadata": {
    "colab": {
     "base_uri": "https://localhost:8080/"
    },
    "id": "P46fpj2d2trj",
    "outputId": "0d70e2f8-6540-4a76-8bb7-13d2579ce2c4"
   },
   "outputs": [
    {
     "data": {
      "text/plain": [
       "Country\n",
       "United Kingdom     374963\n",
       "Germany              6757\n",
       "France               6206\n",
       "EIRE                 5687\n",
       "Spain                1940\n",
       "Belgium              1525\n",
       "Switzerland          1398\n",
       "Portugal             1148\n",
       "Norway                763\n",
       "Netherlands           710\n",
       "Italy                 637\n",
       "Channel Islands       600\n",
       "Australia             555\n",
       "Cyprus                519\n",
       "Name: count, dtype: int64"
      ]
     },
     "execution_count": 40,
     "metadata": {},
     "output_type": "execute_result"
    }
   ],
   "source": [
    "df['Country'].value_counts()[df['Country'].value_counts() > 500]\n"
   ]
  },
  {
   "cell_type": "code",
   "execution_count": 41,
   "metadata": {
    "colab": {
     "base_uri": "https://localhost:8080/"
    },
    "id": "RoRdFKUf2trj",
    "outputId": "656ab7dc-1f5e-4e83-c996-84de0057342d"
   },
   "outputs": [
    {
     "name": "stdout",
     "output_type": "stream",
     "text": [
      "3360\n",
      "(406768, 7)\n"
     ]
    }
   ],
   "source": [
    "print(f\"{df['Country'].value_counts()[df['Country'].value_counts() < 500].sum()}\")\n",
    "print(f\"{df.shape}\")"
   ]
  },
  {
   "cell_type": "code",
   "execution_count": 42,
   "metadata": {
    "colab": {
     "base_uri": "https://localhost:8080/"
    },
    "id": "z9eIkTnu2trk",
    "outputId": "41c49b28-1fba-4506-a8b4-8eb7f376793a"
   },
   "outputs": [
    {
     "name": "stdout",
     "output_type": "stream",
     "text": [
      "0\n",
      "(403408, 7)\n"
     ]
    }
   ],
   "source": [
    "filtered_countries = df['Country'].value_counts()[df['Country'].value_counts() < 500].index\n",
    "df.drop(df[df['Country'].isin(filtered_countries)].index, axis=0, inplace=True)\n",
    "\n",
    "print(f\"{df['Country'].value_counts()[df['Country'].value_counts() < 500].sum()}\")\n",
    "print(f\"{df.shape}\")"
   ]
  },
  {
   "cell_type": "code",
   "execution_count": 45,
   "metadata": {
    "colab": {
     "base_uri": "https://localhost:8080/"
    },
    "id": "yyDTF9Jy2trk",
    "outputId": "195f870f-29e0-430c-b29e-b9f85c6738eb"
   },
   "outputs": [
    {
     "data": {
      "text/plain": [
       "array(['United Kingdom', 'France', 'Australia', 'Netherlands', 'Germany',\n",
       "       'Norway', 'EIRE', 'Switzerland', 'Portugal', 'Italy', 'Belgium',\n",
       "       'Channel Islands', 'Spain', 'Cyprus'], dtype=object)"
      ]
     },
     "execution_count": 45,
     "metadata": {},
     "output_type": "execute_result"
    }
   ],
   "source": [
    "df.Country.unique()"
   ]
  },
  {
   "cell_type": "code",
   "execution_count": 33,
   "metadata": {},
   "outputs": [
    {
     "data": {
      "text/html": [
       "<div>\n",
       "<style scoped>\n",
       "    .dataframe tbody tr th:only-of-type {\n",
       "        vertical-align: middle;\n",
       "    }\n",
       "\n",
       "    .dataframe tbody tr th {\n",
       "        vertical-align: top;\n",
       "    }\n",
       "\n",
       "    .dataframe thead th {\n",
       "        text-align: right;\n",
       "    }\n",
       "</style>\n",
       "<table border=\"1\" class=\"dataframe\">\n",
       "  <thead>\n",
       "    <tr style=\"text-align: right;\">\n",
       "      <th></th>\n",
       "      <th>Description</th>\n",
       "      <th>Quantity</th>\n",
       "      <th>UnitPrice</th>\n",
       "      <th>Country</th>\n",
       "      <th>Day</th>\n",
       "      <th>Month</th>\n",
       "      <th>Year</th>\n",
       "    </tr>\n",
       "  </thead>\n",
       "  <tbody>\n",
       "    <tr>\n",
       "      <th>0</th>\n",
       "      <td>WHITE HANGING HEART T-LIGHT HOLDER</td>\n",
       "      <td>6</td>\n",
       "      <td>2</td>\n",
       "      <td>United Kingdom</td>\n",
       "      <td>1</td>\n",
       "      <td>12</td>\n",
       "      <td>10</td>\n",
       "    </tr>\n",
       "    <tr>\n",
       "      <th>1</th>\n",
       "      <td>WHITE METAL LANTERN</td>\n",
       "      <td>6</td>\n",
       "      <td>3</td>\n",
       "      <td>United Kingdom</td>\n",
       "      <td>1</td>\n",
       "      <td>12</td>\n",
       "      <td>10</td>\n",
       "    </tr>\n",
       "    <tr>\n",
       "      <th>2</th>\n",
       "      <td>CREAM CUPID HEARTS COAT HANGER</td>\n",
       "      <td>8</td>\n",
       "      <td>2</td>\n",
       "      <td>United Kingdom</td>\n",
       "      <td>1</td>\n",
       "      <td>12</td>\n",
       "      <td>10</td>\n",
       "    </tr>\n",
       "    <tr>\n",
       "      <th>3</th>\n",
       "      <td>KNITTED UNION FLAG HOT WATER BOTTLE</td>\n",
       "      <td>6</td>\n",
       "      <td>3</td>\n",
       "      <td>United Kingdom</td>\n",
       "      <td>1</td>\n",
       "      <td>12</td>\n",
       "      <td>10</td>\n",
       "    </tr>\n",
       "    <tr>\n",
       "      <th>4</th>\n",
       "      <td>RED WOOLLY HOTTIE WHITE HEART.</td>\n",
       "      <td>6</td>\n",
       "      <td>3</td>\n",
       "      <td>United Kingdom</td>\n",
       "      <td>1</td>\n",
       "      <td>12</td>\n",
       "      <td>10</td>\n",
       "    </tr>\n",
       "  </tbody>\n",
       "</table>\n",
       "</div>"
      ],
      "text/plain": [
       "                           Description  Quantity  UnitPrice         Country   \n",
       "0   WHITE HANGING HEART T-LIGHT HOLDER         6          2  United Kingdom  \\\n",
       "1                  WHITE METAL LANTERN         6          3  United Kingdom   \n",
       "2       CREAM CUPID HEARTS COAT HANGER         8          2  United Kingdom   \n",
       "3  KNITTED UNION FLAG HOT WATER BOTTLE         6          3  United Kingdom   \n",
       "4       RED WOOLLY HOTTIE WHITE HEART.         6          3  United Kingdom   \n",
       "\n",
       "   Day  Month  Year  \n",
       "0    1     12    10  \n",
       "1    1     12    10  \n",
       "2    1     12    10  \n",
       "3    1     12    10  \n",
       "4    1     12    10  "
      ]
     },
     "execution_count": 33,
     "metadata": {},
     "output_type": "execute_result"
    }
   ],
   "source": [
    "df.head(5)"
   ]
  },
  {
   "cell_type": "code",
   "execution_count": 34,
   "metadata": {},
   "outputs": [
    {
     "data": {
      "text/plain": [
       "(315, 7)"
      ]
     },
     "execution_count": 34,
     "metadata": {},
     "output_type": "execute_result"
    }
   ],
   "source": [
    "df[df.Description == \"WHITE METAL LANTERN\"].shape"
   ]
  },
  {
   "cell_type": "code",
   "execution_count": 35,
   "metadata": {},
   "outputs": [
    {
     "data": {
      "text/html": [
       "<div>\n",
       "<style scoped>\n",
       "    .dataframe tbody tr th:only-of-type {\n",
       "        vertical-align: middle;\n",
       "    }\n",
       "\n",
       "    .dataframe tbody tr th {\n",
       "        vertical-align: top;\n",
       "    }\n",
       "\n",
       "    .dataframe thead th {\n",
       "        text-align: right;\n",
       "    }\n",
       "</style>\n",
       "<table border=\"1\" class=\"dataframe\">\n",
       "  <thead>\n",
       "    <tr style=\"text-align: right;\">\n",
       "      <th></th>\n",
       "      <th>Description</th>\n",
       "      <th>Quantity</th>\n",
       "      <th>UnitPrice</th>\n",
       "      <th>Country</th>\n",
       "      <th>Day</th>\n",
       "      <th>Month</th>\n",
       "      <th>Year</th>\n",
       "    </tr>\n",
       "  </thead>\n",
       "  <tbody>\n",
       "    <tr>\n",
       "      <th>0</th>\n",
       "      <td>WHITE HANGING HEART T-LIGHT HOLDER</td>\n",
       "      <td>6</td>\n",
       "      <td>2</td>\n",
       "      <td>United Kingdom</td>\n",
       "      <td>1</td>\n",
       "      <td>12</td>\n",
       "      <td>10</td>\n",
       "    </tr>\n",
       "    <tr>\n",
       "      <th>1</th>\n",
       "      <td>WHITE METAL LANTERN</td>\n",
       "      <td>6</td>\n",
       "      <td>3</td>\n",
       "      <td>United Kingdom</td>\n",
       "      <td>1</td>\n",
       "      <td>12</td>\n",
       "      <td>10</td>\n",
       "    </tr>\n",
       "    <tr>\n",
       "      <th>2</th>\n",
       "      <td>CREAM CUPID HEARTS COAT HANGER</td>\n",
       "      <td>8</td>\n",
       "      <td>2</td>\n",
       "      <td>United Kingdom</td>\n",
       "      <td>1</td>\n",
       "      <td>12</td>\n",
       "      <td>10</td>\n",
       "    </tr>\n",
       "    <tr>\n",
       "      <th>3</th>\n",
       "      <td>KNITTED UNION FLAG HOT WATER BOTTLE</td>\n",
       "      <td>6</td>\n",
       "      <td>3</td>\n",
       "      <td>United Kingdom</td>\n",
       "      <td>1</td>\n",
       "      <td>12</td>\n",
       "      <td>10</td>\n",
       "    </tr>\n",
       "  </tbody>\n",
       "</table>\n",
       "</div>"
      ],
      "text/plain": [
       "                           Description  Quantity  UnitPrice         Country   \n",
       "0   WHITE HANGING HEART T-LIGHT HOLDER         6          2  United Kingdom  \\\n",
       "1                  WHITE METAL LANTERN         6          3  United Kingdom   \n",
       "2       CREAM CUPID HEARTS COAT HANGER         8          2  United Kingdom   \n",
       "3  KNITTED UNION FLAG HOT WATER BOTTLE         6          3  United Kingdom   \n",
       "\n",
       "   Day  Month  Year  \n",
       "0    1     12    10  \n",
       "1    1     12    10  \n",
       "2    1     12    10  \n",
       "3    1     12    10  "
      ]
     },
     "execution_count": 35,
     "metadata": {},
     "output_type": "execute_result"
    }
   ],
   "source": [
    "df['Description']=df['Description'].str.strip()\n",
    "df.head(4)"
   ]
  },
  {
   "cell_type": "code",
   "execution_count": 36,
   "metadata": {},
   "outputs": [
    {
     "data": {
      "text/plain": [
       "(2207, 7)"
      ]
     },
     "execution_count": 36,
     "metadata": {},
     "output_type": "execute_result"
    }
   ],
   "source": [
    "df[df.Description == \"WHITE HANGING HEART T-LIGHT HOLDER\"].shape"
   ]
  },
  {
   "cell_type": "code",
   "execution_count": 37,
   "metadata": {},
   "outputs": [
    {
     "data": {
      "text/plain": [
       "(403408, 7)"
      ]
     },
     "execution_count": 37,
     "metadata": {},
     "output_type": "execute_result"
    }
   ],
   "source": [
    "df.shape"
   ]
  },
  {
   "cell_type": "code",
   "execution_count": 38,
   "metadata": {},
   "outputs": [
    {
     "name": "stdout",
     "output_type": "stream",
     "text": [
      "0\n",
      "(202341, 7)\n"
     ]
    }
   ],
   "source": [
    "filtered_Description = df['Description'].value_counts()[df['Description'].value_counts() < 300].index\n",
    "df.drop(df[df['Description'].isin(filtered_Description)].index, axis=0, inplace=True)\n",
    "\n",
    "print(f\"{df['Description'].value_counts()[df['Description'].value_counts() < 300].sum()}\")\n",
    "print(f\"{df.shape}\")"
   ]
  },
  {
   "cell_type": "code",
   "execution_count": 39,
   "metadata": {
    "colab": {
     "base_uri": "https://localhost:8080/",
     "height": 481
    },
    "id": "7fh-nb4_2trk",
    "outputId": "8539cdce-91ee-4258-f8e8-c308c48f4672"
   },
   "outputs": [
    {
     "data": {
      "text/html": [
       "<div>\n",
       "<style scoped>\n",
       "    .dataframe tbody tr th:only-of-type {\n",
       "        vertical-align: middle;\n",
       "    }\n",
       "\n",
       "    .dataframe tbody tr th {\n",
       "        vertical-align: top;\n",
       "    }\n",
       "\n",
       "    .dataframe thead th {\n",
       "        text-align: right;\n",
       "    }\n",
       "</style>\n",
       "<table border=\"1\" class=\"dataframe\">\n",
       "  <thead>\n",
       "    <tr style=\"text-align: right;\">\n",
       "      <th></th>\n",
       "      <th>Description</th>\n",
       "      <th>Quantity</th>\n",
       "      <th>UnitPrice</th>\n",
       "      <th>Country</th>\n",
       "      <th>Day</th>\n",
       "      <th>Month</th>\n",
       "      <th>Year</th>\n",
       "    </tr>\n",
       "  </thead>\n",
       "  <tbody>\n",
       "    <tr>\n",
       "      <th>0</th>\n",
       "      <td>WHITE HANGING HEART T-LIGHT HOLDER</td>\n",
       "      <td>6</td>\n",
       "      <td>2</td>\n",
       "      <td>United Kingdom</td>\n",
       "      <td>1</td>\n",
       "      <td>12</td>\n",
       "      <td>10</td>\n",
       "    </tr>\n",
       "    <tr>\n",
       "      <th>1</th>\n",
       "      <td>WHITE METAL LANTERN</td>\n",
       "      <td>6</td>\n",
       "      <td>3</td>\n",
       "      <td>United Kingdom</td>\n",
       "      <td>1</td>\n",
       "      <td>12</td>\n",
       "      <td>10</td>\n",
       "    </tr>\n",
       "    <tr>\n",
       "      <th>3</th>\n",
       "      <td>KNITTED UNION FLAG HOT WATER BOTTLE</td>\n",
       "      <td>6</td>\n",
       "      <td>3</td>\n",
       "      <td>United Kingdom</td>\n",
       "      <td>1</td>\n",
       "      <td>12</td>\n",
       "      <td>10</td>\n",
       "    </tr>\n",
       "    <tr>\n",
       "      <th>4</th>\n",
       "      <td>RED WOOLLY HOTTIE WHITE HEART.</td>\n",
       "      <td>6</td>\n",
       "      <td>3</td>\n",
       "      <td>United Kingdom</td>\n",
       "      <td>1</td>\n",
       "      <td>12</td>\n",
       "      <td>10</td>\n",
       "    </tr>\n",
       "  </tbody>\n",
       "</table>\n",
       "</div>"
      ],
      "text/plain": [
       "                           Description  Quantity  UnitPrice         Country   \n",
       "0   WHITE HANGING HEART T-LIGHT HOLDER         6          2  United Kingdom  \\\n",
       "1                  WHITE METAL LANTERN         6          3  United Kingdom   \n",
       "3  KNITTED UNION FLAG HOT WATER BOTTLE         6          3  United Kingdom   \n",
       "4       RED WOOLLY HOTTIE WHITE HEART.         6          3  United Kingdom   \n",
       "\n",
       "   Day  Month  Year  \n",
       "0    1     12    10  \n",
       "1    1     12    10  \n",
       "3    1     12    10  \n",
       "4    1     12    10  "
      ]
     },
     "execution_count": 39,
     "metadata": {},
     "output_type": "execute_result"
    }
   ],
   "source": [
    "df.head(4)"
   ]
  },
  {
   "cell_type": "code",
   "execution_count": 40,
   "metadata": {},
   "outputs": [
    {
     "data": {
      "text/html": [
       "<div>\n",
       "<style scoped>\n",
       "    .dataframe tbody tr th:only-of-type {\n",
       "        vertical-align: middle;\n",
       "    }\n",
       "\n",
       "    .dataframe tbody tr th {\n",
       "        vertical-align: top;\n",
       "    }\n",
       "\n",
       "    .dataframe thead th {\n",
       "        text-align: right;\n",
       "    }\n",
       "</style>\n",
       "<table border=\"1\" class=\"dataframe\">\n",
       "  <thead>\n",
       "    <tr style=\"text-align: right;\">\n",
       "      <th></th>\n",
       "      <th>Description</th>\n",
       "      <th>Quantity</th>\n",
       "      <th>UnitPrice</th>\n",
       "      <th>Country</th>\n",
       "      <th>Day</th>\n",
       "      <th>Month</th>\n",
       "      <th>Year</th>\n",
       "      <th>Total_price</th>\n",
       "    </tr>\n",
       "  </thead>\n",
       "  <tbody>\n",
       "    <tr>\n",
       "      <th>0</th>\n",
       "      <td>WHITE HANGING HEART T-LIGHT HOLDER</td>\n",
       "      <td>6</td>\n",
       "      <td>2</td>\n",
       "      <td>United Kingdom</td>\n",
       "      <td>1</td>\n",
       "      <td>12</td>\n",
       "      <td>10</td>\n",
       "      <td>12</td>\n",
       "    </tr>\n",
       "    <tr>\n",
       "      <th>1</th>\n",
       "      <td>WHITE METAL LANTERN</td>\n",
       "      <td>6</td>\n",
       "      <td>3</td>\n",
       "      <td>United Kingdom</td>\n",
       "      <td>1</td>\n",
       "      <td>12</td>\n",
       "      <td>10</td>\n",
       "      <td>18</td>\n",
       "    </tr>\n",
       "    <tr>\n",
       "      <th>3</th>\n",
       "      <td>KNITTED UNION FLAG HOT WATER BOTTLE</td>\n",
       "      <td>6</td>\n",
       "      <td>3</td>\n",
       "      <td>United Kingdom</td>\n",
       "      <td>1</td>\n",
       "      <td>12</td>\n",
       "      <td>10</td>\n",
       "      <td>18</td>\n",
       "    </tr>\n",
       "    <tr>\n",
       "      <th>4</th>\n",
       "      <td>RED WOOLLY HOTTIE WHITE HEART.</td>\n",
       "      <td>6</td>\n",
       "      <td>3</td>\n",
       "      <td>United Kingdom</td>\n",
       "      <td>1</td>\n",
       "      <td>12</td>\n",
       "      <td>10</td>\n",
       "      <td>18</td>\n",
       "    </tr>\n",
       "    <tr>\n",
       "      <th>5</th>\n",
       "      <td>SET 7 BABUSHKA NESTING BOXES</td>\n",
       "      <td>2</td>\n",
       "      <td>7</td>\n",
       "      <td>United Kingdom</td>\n",
       "      <td>1</td>\n",
       "      <td>12</td>\n",
       "      <td>10</td>\n",
       "      <td>14</td>\n",
       "    </tr>\n",
       "  </tbody>\n",
       "</table>\n",
       "</div>"
      ],
      "text/plain": [
       "                           Description  Quantity  UnitPrice         Country   \n",
       "0   WHITE HANGING HEART T-LIGHT HOLDER         6          2  United Kingdom  \\\n",
       "1                  WHITE METAL LANTERN         6          3  United Kingdom   \n",
       "3  KNITTED UNION FLAG HOT WATER BOTTLE         6          3  United Kingdom   \n",
       "4       RED WOOLLY HOTTIE WHITE HEART.         6          3  United Kingdom   \n",
       "5         SET 7 BABUSHKA NESTING BOXES         2          7  United Kingdom   \n",
       "\n",
       "   Day  Month  Year  Total_price  \n",
       "0    1     12    10           12  \n",
       "1    1     12    10           18  \n",
       "3    1     12    10           18  \n",
       "4    1     12    10           18  \n",
       "5    1     12    10           14  "
      ]
     },
     "execution_count": 40,
     "metadata": {},
     "output_type": "execute_result"
    }
   ],
   "source": [
    "df['Total_price'] = df.Quantity * df.UnitPrice\n",
    "df.head(5)"
   ]
  },
  {
   "cell_type": "code",
   "execution_count": 41,
   "metadata": {},
   "outputs": [],
   "source": [
    "#from sklearn.model_selection import train_test_split\n",
    "#x=df.drop('Total_price', axis=1)\n",
    "#y=df.Total_price\n",
    "\n",
    "#x_train, x_test, y_train, y_test = train_test_split(x,y, random_state=34, test_size=0.49)\n",
    "#print(f\"{x_train.shape}\")\n",
    "#print(f\"{x_test.shape}\")\n",
    "\n",
    "#final_df=pd.concat([x_test,y_test],axis=1)\n",
    "#final_df.to_csv(\"final_data.csv\")\n",
    "#final_df.shape"
   ]
  },
  {
   "cell_type": "code",
   "execution_count": 42,
   "metadata": {},
   "outputs": [
    {
     "data": {
      "text/html": [
       "<div>\n",
       "<style scoped>\n",
       "    .dataframe tbody tr th:only-of-type {\n",
       "        vertical-align: middle;\n",
       "    }\n",
       "\n",
       "    .dataframe tbody tr th {\n",
       "        vertical-align: top;\n",
       "    }\n",
       "\n",
       "    .dataframe thead th {\n",
       "        text-align: right;\n",
       "    }\n",
       "</style>\n",
       "<table border=\"1\" class=\"dataframe\">\n",
       "  <thead>\n",
       "    <tr style=\"text-align: right;\">\n",
       "      <th></th>\n",
       "      <th>Description</th>\n",
       "      <th>Quantity</th>\n",
       "      <th>UnitPrice</th>\n",
       "      <th>Country</th>\n",
       "      <th>Day</th>\n",
       "      <th>Month</th>\n",
       "      <th>Year</th>\n",
       "      <th>Total_price</th>\n",
       "    </tr>\n",
       "  </thead>\n",
       "  <tbody>\n",
       "    <tr>\n",
       "      <th>0</th>\n",
       "      <td>WHITE HANGING HEART T-LIGHT HOLDER</td>\n",
       "      <td>6</td>\n",
       "      <td>2</td>\n",
       "      <td>United Kingdom</td>\n",
       "      <td>1</td>\n",
       "      <td>12</td>\n",
       "      <td>10</td>\n",
       "      <td>12</td>\n",
       "    </tr>\n",
       "    <tr>\n",
       "      <th>1</th>\n",
       "      <td>WHITE METAL LANTERN</td>\n",
       "      <td>6</td>\n",
       "      <td>3</td>\n",
       "      <td>United Kingdom</td>\n",
       "      <td>1</td>\n",
       "      <td>12</td>\n",
       "      <td>10</td>\n",
       "      <td>18</td>\n",
       "    </tr>\n",
       "    <tr>\n",
       "      <th>3</th>\n",
       "      <td>KNITTED UNION FLAG HOT WATER BOTTLE</td>\n",
       "      <td>6</td>\n",
       "      <td>3</td>\n",
       "      <td>United Kingdom</td>\n",
       "      <td>1</td>\n",
       "      <td>12</td>\n",
       "      <td>10</td>\n",
       "      <td>18</td>\n",
       "    </tr>\n",
       "  </tbody>\n",
       "</table>\n",
       "</div>"
      ],
      "text/plain": [
       "                           Description  Quantity  UnitPrice         Country   \n",
       "0   WHITE HANGING HEART T-LIGHT HOLDER         6          2  United Kingdom  \\\n",
       "1                  WHITE METAL LANTERN         6          3  United Kingdom   \n",
       "3  KNITTED UNION FLAG HOT WATER BOTTLE         6          3  United Kingdom   \n",
       "\n",
       "   Day  Month  Year  Total_price  \n",
       "0    1     12    10           12  \n",
       "1    1     12    10           18  \n",
       "3    1     12    10           18  "
      ]
     },
     "execution_count": 42,
     "metadata": {},
     "output_type": "execute_result"
    }
   ],
   "source": [
    "df.head(3)"
   ]
  },
  {
   "cell_type": "code",
   "execution_count": 43,
   "metadata": {},
   "outputs": [
    {
     "data": {
      "text/html": [
       "<div>\n",
       "<style scoped>\n",
       "    .dataframe tbody tr th:only-of-type {\n",
       "        vertical-align: middle;\n",
       "    }\n",
       "\n",
       "    .dataframe tbody tr th {\n",
       "        vertical-align: top;\n",
       "    }\n",
       "\n",
       "    .dataframe thead th {\n",
       "        text-align: right;\n",
       "    }\n",
       "</style>\n",
       "<table border=\"1\" class=\"dataframe\">\n",
       "  <thead>\n",
       "    <tr style=\"text-align: right;\">\n",
       "      <th></th>\n",
       "      <th>Quantity</th>\n",
       "      <th>UnitPrice</th>\n",
       "      <th>Day</th>\n",
       "      <th>Month</th>\n",
       "      <th>Year</th>\n",
       "      <th>Total_price</th>\n",
       "      <th>HOOK PHOTO SHELF ANTIQUE WHITE</th>\n",
       "      <th>PENCILS TUBE RED RETROSPOT</th>\n",
       "      <th>PIECE SPACEBOY COOKIE CUTTER SET</th>\n",
       "      <th>RIBBONS RUSTIC CHARM</th>\n",
       "      <th>...</th>\n",
       "      <th>EIRE</th>\n",
       "      <th>France</th>\n",
       "      <th>Germany</th>\n",
       "      <th>Italy</th>\n",
       "      <th>Netherlands</th>\n",
       "      <th>Norway</th>\n",
       "      <th>Portugal</th>\n",
       "      <th>Spain</th>\n",
       "      <th>Switzerland</th>\n",
       "      <th>United Kingdom</th>\n",
       "    </tr>\n",
       "  </thead>\n",
       "  <tbody>\n",
       "    <tr>\n",
       "      <th>0</th>\n",
       "      <td>6</td>\n",
       "      <td>2</td>\n",
       "      <td>1</td>\n",
       "      <td>12</td>\n",
       "      <td>10</td>\n",
       "      <td>12</td>\n",
       "      <td>0</td>\n",
       "      <td>0</td>\n",
       "      <td>0</td>\n",
       "      <td>0</td>\n",
       "      <td>...</td>\n",
       "      <td>0</td>\n",
       "      <td>0</td>\n",
       "      <td>0</td>\n",
       "      <td>0</td>\n",
       "      <td>0</td>\n",
       "      <td>0</td>\n",
       "      <td>0</td>\n",
       "      <td>0</td>\n",
       "      <td>0</td>\n",
       "      <td>1</td>\n",
       "    </tr>\n",
       "    <tr>\n",
       "      <th>1</th>\n",
       "      <td>6</td>\n",
       "      <td>3</td>\n",
       "      <td>1</td>\n",
       "      <td>12</td>\n",
       "      <td>10</td>\n",
       "      <td>18</td>\n",
       "      <td>0</td>\n",
       "      <td>0</td>\n",
       "      <td>0</td>\n",
       "      <td>0</td>\n",
       "      <td>...</td>\n",
       "      <td>0</td>\n",
       "      <td>0</td>\n",
       "      <td>0</td>\n",
       "      <td>0</td>\n",
       "      <td>0</td>\n",
       "      <td>0</td>\n",
       "      <td>0</td>\n",
       "      <td>0</td>\n",
       "      <td>0</td>\n",
       "      <td>1</td>\n",
       "    </tr>\n",
       "    <tr>\n",
       "      <th>3</th>\n",
       "      <td>6</td>\n",
       "      <td>3</td>\n",
       "      <td>1</td>\n",
       "      <td>12</td>\n",
       "      <td>10</td>\n",
       "      <td>18</td>\n",
       "      <td>0</td>\n",
       "      <td>0</td>\n",
       "      <td>0</td>\n",
       "      <td>0</td>\n",
       "      <td>...</td>\n",
       "      <td>0</td>\n",
       "      <td>0</td>\n",
       "      <td>0</td>\n",
       "      <td>0</td>\n",
       "      <td>0</td>\n",
       "      <td>0</td>\n",
       "      <td>0</td>\n",
       "      <td>0</td>\n",
       "      <td>0</td>\n",
       "      <td>1</td>\n",
       "    </tr>\n",
       "    <tr>\n",
       "      <th>4</th>\n",
       "      <td>6</td>\n",
       "      <td>3</td>\n",
       "      <td>1</td>\n",
       "      <td>12</td>\n",
       "      <td>10</td>\n",
       "      <td>18</td>\n",
       "      <td>0</td>\n",
       "      <td>0</td>\n",
       "      <td>0</td>\n",
       "      <td>0</td>\n",
       "      <td>...</td>\n",
       "      <td>0</td>\n",
       "      <td>0</td>\n",
       "      <td>0</td>\n",
       "      <td>0</td>\n",
       "      <td>0</td>\n",
       "      <td>0</td>\n",
       "      <td>0</td>\n",
       "      <td>0</td>\n",
       "      <td>0</td>\n",
       "      <td>1</td>\n",
       "    </tr>\n",
       "  </tbody>\n",
       "</table>\n",
       "<p>4 rows × 391 columns</p>\n",
       "</div>"
      ],
      "text/plain": [
       "   Quantity  UnitPrice  Day  Month  Year  Total_price   \n",
       "0         6          2    1     12    10           12  \\\n",
       "1         6          3    1     12    10           18   \n",
       "3         6          3    1     12    10           18   \n",
       "4         6          3    1     12    10           18   \n",
       "\n",
       "    HOOK PHOTO SHELF ANTIQUE WHITE   PENCILS TUBE RED RETROSPOT   \n",
       "0                                0                            0  \\\n",
       "1                                0                            0   \n",
       "3                                0                            0   \n",
       "4                                0                            0   \n",
       "\n",
       "    PIECE SPACEBOY COOKIE CUTTER SET   RIBBONS RUSTIC CHARM  ...  EIRE   \n",
       "0                                  0                      0  ...     0  \\\n",
       "1                                  0                      0  ...     0   \n",
       "3                                  0                      0  ...     0   \n",
       "4                                  0                      0  ...     0   \n",
       "\n",
       "   France  Germany  Italy  Netherlands  Norway  Portugal  Spain  Switzerland   \n",
       "0       0        0      0            0       0         0      0            0  \\\n",
       "1       0        0      0            0       0         0      0            0   \n",
       "3       0        0      0            0       0         0      0            0   \n",
       "4       0        0      0            0       0         0      0            0   \n",
       "\n",
       "   United Kingdom  \n",
       "0               1  \n",
       "1               1  \n",
       "3               1  \n",
       "4               1  \n",
       "\n",
       "[4 rows x 391 columns]"
      ]
     },
     "execution_count": 43,
     "metadata": {},
     "output_type": "execute_result"
    }
   ],
   "source": [
    "import re\n",
    "\n",
    "df['Description'] = df['Description'].apply(lambda x: re.sub(r'\\d+', '', x))\n",
    "\n",
    "f_df=pd.get_dummies(df, columns=['Description','Country'], \n",
    "                                    drop_first=True, dtype=int, dummy_na=False, prefix='', prefix_sep='')\n",
    "f_df.head(4)"
   ]
  },
  {
   "cell_type": "code",
   "execution_count": 44,
   "metadata": {},
   "outputs": [
    {
     "name": "stdout",
     "output_type": "stream",
     "text": [
      "(107240, 390)\n",
      "(95101, 390)\n"
     ]
    }
   ],
   "source": [
    "from sklearn.model_selection import train_test_split\n",
    "x=f_df.drop('Total_price', axis=1)\n",
    "y=f_df.Total_price\n",
    "\n",
    "x_train, x_test, y_train, y_test = train_test_split(x,y, random_state=34, test_size=0.47)\n",
    "print(f\"{x_train.shape}\")\n",
    "print(f\"{x_test.shape}\")"
   ]
  },
  {
   "cell_type": "code",
   "execution_count": 45,
   "metadata": {},
   "outputs": [
    {
     "data": {
      "text/plain": [
       "(95101, 391)"
      ]
     },
     "execution_count": 45,
     "metadata": {},
     "output_type": "execute_result"
    }
   ],
   "source": [
    "final_df=pd.concat([x_test,y_test],axis=1)\n",
    "final_df.to_csv(\"final_data.csv\")\n",
    "final_df.shape"
   ]
  },
  {
   "cell_type": "code",
   "execution_count": null,
   "metadata": {},
   "outputs": [],
   "source": []
  },
  {
   "cell_type": "code",
   "execution_count": 46,
   "metadata": {},
   "outputs": [],
   "source": [
    "import pandas as pd\n",
    "import numpy as np\n",
    "import matplotlib.pyplot as plt\n",
    "import seaborn as sns"
   ]
  },
  {
   "cell_type": "code",
   "execution_count": 47,
   "metadata": {},
   "outputs": [
    {
     "data": {
      "text/html": [
       "<div>\n",
       "<style scoped>\n",
       "    .dataframe tbody tr th:only-of-type {\n",
       "        vertical-align: middle;\n",
       "    }\n",
       "\n",
       "    .dataframe tbody tr th {\n",
       "        vertical-align: top;\n",
       "    }\n",
       "\n",
       "    .dataframe thead th {\n",
       "        text-align: right;\n",
       "    }\n",
       "</style>\n",
       "<table border=\"1\" class=\"dataframe\">\n",
       "  <thead>\n",
       "    <tr style=\"text-align: right;\">\n",
       "      <th></th>\n",
       "      <th>Quantity</th>\n",
       "      <th>UnitPrice</th>\n",
       "      <th>Day</th>\n",
       "      <th>Month</th>\n",
       "      <th>Year</th>\n",
       "      <th>HOOK PHOTO SHELF ANTIQUE WHITE</th>\n",
       "      <th>PENCILS TUBE RED RETROSPOT</th>\n",
       "      <th>PIECE SPACEBOY COOKIE CUTTER SET</th>\n",
       "      <th>RIBBONS RUSTIC CHARM</th>\n",
       "      <th>STRIPEY MICE FELTCRAFT</th>\n",
       "      <th>...</th>\n",
       "      <th>France</th>\n",
       "      <th>Germany</th>\n",
       "      <th>Italy</th>\n",
       "      <th>Netherlands</th>\n",
       "      <th>Norway</th>\n",
       "      <th>Portugal</th>\n",
       "      <th>Spain</th>\n",
       "      <th>Switzerland</th>\n",
       "      <th>United Kingdom</th>\n",
       "      <th>Total_price</th>\n",
       "    </tr>\n",
       "  </thead>\n",
       "  <tbody>\n",
       "    <tr>\n",
       "      <th>0</th>\n",
       "      <td>12</td>\n",
       "      <td>5</td>\n",
       "      <td>9</td>\n",
       "      <td>10</td>\n",
       "      <td>11</td>\n",
       "      <td>0</td>\n",
       "      <td>0</td>\n",
       "      <td>0</td>\n",
       "      <td>0</td>\n",
       "      <td>0</td>\n",
       "      <td>...</td>\n",
       "      <td>0</td>\n",
       "      <td>0</td>\n",
       "      <td>0</td>\n",
       "      <td>0</td>\n",
       "      <td>0</td>\n",
       "      <td>0</td>\n",
       "      <td>0</td>\n",
       "      <td>0</td>\n",
       "      <td>1</td>\n",
       "      <td>60</td>\n",
       "    </tr>\n",
       "    <tr>\n",
       "      <th>1</th>\n",
       "      <td>24</td>\n",
       "      <td>2</td>\n",
       "      <td>13</td>\n",
       "      <td>9</td>\n",
       "      <td>11</td>\n",
       "      <td>0</td>\n",
       "      <td>0</td>\n",
       "      <td>0</td>\n",
       "      <td>0</td>\n",
       "      <td>0</td>\n",
       "      <td>...</td>\n",
       "      <td>0</td>\n",
       "      <td>0</td>\n",
       "      <td>0</td>\n",
       "      <td>0</td>\n",
       "      <td>0</td>\n",
       "      <td>0</td>\n",
       "      <td>0</td>\n",
       "      <td>0</td>\n",
       "      <td>1</td>\n",
       "      <td>48</td>\n",
       "    </tr>\n",
       "    <tr>\n",
       "      <th>2</th>\n",
       "      <td>24</td>\n",
       "      <td>4</td>\n",
       "      <td>5</td>\n",
       "      <td>12</td>\n",
       "      <td>11</td>\n",
       "      <td>0</td>\n",
       "      <td>0</td>\n",
       "      <td>0</td>\n",
       "      <td>0</td>\n",
       "      <td>0</td>\n",
       "      <td>...</td>\n",
       "      <td>0</td>\n",
       "      <td>0</td>\n",
       "      <td>0</td>\n",
       "      <td>0</td>\n",
       "      <td>0</td>\n",
       "      <td>0</td>\n",
       "      <td>0</td>\n",
       "      <td>0</td>\n",
       "      <td>1</td>\n",
       "      <td>96</td>\n",
       "    </tr>\n",
       "    <tr>\n",
       "      <th>3</th>\n",
       "      <td>6</td>\n",
       "      <td>1</td>\n",
       "      <td>2</td>\n",
       "      <td>12</td>\n",
       "      <td>10</td>\n",
       "      <td>0</td>\n",
       "      <td>0</td>\n",
       "      <td>0</td>\n",
       "      <td>0</td>\n",
       "      <td>0</td>\n",
       "      <td>...</td>\n",
       "      <td>0</td>\n",
       "      <td>0</td>\n",
       "      <td>0</td>\n",
       "      <td>0</td>\n",
       "      <td>0</td>\n",
       "      <td>0</td>\n",
       "      <td>0</td>\n",
       "      <td>0</td>\n",
       "      <td>1</td>\n",
       "      <td>6</td>\n",
       "    </tr>\n",
       "  </tbody>\n",
       "</table>\n",
       "<p>4 rows × 391 columns</p>\n",
       "</div>"
      ],
      "text/plain": [
       "   Quantity  UnitPrice  Day  Month  Year   HOOK PHOTO SHELF ANTIQUE WHITE   \n",
       "0        12          5    9     10    11                                0  \\\n",
       "1        24          2   13      9    11                                0   \n",
       "2        24          4    5     12    11                                0   \n",
       "3         6          1    2     12    10                                0   \n",
       "\n",
       "    PENCILS TUBE RED RETROSPOT   PIECE SPACEBOY COOKIE CUTTER SET   \n",
       "0                            0                                  0  \\\n",
       "1                            0                                  0   \n",
       "2                            0                                  0   \n",
       "3                            0                                  0   \n",
       "\n",
       "    RIBBONS RUSTIC CHARM   STRIPEY MICE FELTCRAFT  ...  France  Germany   \n",
       "0                      0                        0  ...       0        0  \\\n",
       "1                      0                        0  ...       0        0   \n",
       "2                      0                        0  ...       0        0   \n",
       "3                      0                        0  ...       0        0   \n",
       "\n",
       "   Italy  Netherlands  Norway  Portugal  Spain  Switzerland  United Kingdom   \n",
       "0      0            0       0         0      0            0               1  \\\n",
       "1      0            0       0         0      0            0               1   \n",
       "2      0            0       0         0      0            0               1   \n",
       "3      0            0       0         0      0            0               1   \n",
       "\n",
       "   Total_price  \n",
       "0           60  \n",
       "1           48  \n",
       "2           96  \n",
       "3            6  \n",
       "\n",
       "[4 rows x 391 columns]"
      ]
     },
     "execution_count": 47,
     "metadata": {},
     "output_type": "execute_result"
    }
   ],
   "source": [
    "dff= pd.read_csv('final_data.csv')\n",
    "dff.drop(['Unnamed: 0'], axis=1, inplace=True)\n",
    "dff.head(4)"
   ]
  },
  {
   "cell_type": "code",
   "execution_count": 48,
   "metadata": {},
   "outputs": [
    {
     "data": {
      "text/plain": [
       "(95101, 391)"
      ]
     },
     "execution_count": 48,
     "metadata": {},
     "output_type": "execute_result"
    }
   ],
   "source": [
    "dff.shape"
   ]
  },
  {
   "cell_type": "code",
   "execution_count": 49,
   "metadata": {},
   "outputs": [],
   "source": [
    "#import pandas as pd\n",
    "#from sklearn.decomposition import PCA\n",
    "#from sklearn.preprocessing import StandardScaler\n",
    "\n",
    "\n",
    "\n",
    "# Separate the features and target variable\n",
    "#X = df.drop('Total_price', axis=1)\n",
    "#y = df['Total_price']\n",
    "\n",
    "# Standardize the features\n",
    "#scaler = StandardScaler()\n",
    "#X_std = scaler.fit_transform(X)\n",
    "\n",
    "# Perform PCA\n",
    "#pca = PCA()\n",
    "#X_pca = pca.fit_transform(X_std)\n",
    "\n",
    "# Explained variance ratio\n",
    "#explained_var_ratio = pca.explained_variance_ratio_\n",
    "\n",
    "# Principal components\n",
    "#components = pca.components_\n",
    "\n",
    "# Plot the scree plot\n",
    "#import matplotlib.pyplot as plt\n",
    "#plt.plot(range(1,len(explained_var_ratio)+1), explained_var_ratio, marker='o')\n",
    "#plt.xlabel('Principal Component')\n",
    "#plt.ylabel('Explained Variance Ratio')\n",
    "#plt.show()\n",
    "\n",
    "#print(f\"pca explained variance: {pca.explained_variance_.shape}\")\n",
    "#print(f\"pca components shape : {pca.components_.shape}\")\n"
   ]
  },
  {
   "cell_type": "code",
   "execution_count": 50,
   "metadata": {},
   "outputs": [],
   "source": [
    "#np.cumsum(pca.explained_variance_ratio_)"
   ]
  },
  {
   "cell_type": "code",
   "execution_count": 51,
   "metadata": {},
   "outputs": [],
   "source": [
    "#import matplotlib.pyplot as plt\n",
    "\n",
    "#cumulative_variance_ratio = np.cumsum(pca.explained_variance_ratio_)\n",
    "#plt.plot(cumulative_variance_ratio)\n",
    "#plt.xlabel('Number of Components')\n",
    "#plt.ylabel('Cumulative Explained Variance Ratio')\n",
    "#plt.show()\n"
   ]
  },
  {
   "cell_type": "code",
   "execution_count": 52,
   "metadata": {
    "id": "LSfUsxko2trk"
   },
   "outputs": [],
   "source": [
    "from sklearn.model_selection import train_test_split\n",
    "from sklearn.linear_model import LogisticRegression, LinearRegression\n",
    "from sklearn.tree import DecisionTreeRegressor\n",
    "from sklearn.ensemble import RandomForestRegressor\n",
    "from sklearn.metrics import mean_absolute_error, mean_squared_error, r2_score"
   ]
  },
  {
   "cell_type": "code",
   "execution_count": 53,
   "metadata": {
    "colab": {
     "base_uri": "https://localhost:8080/"
    },
    "id": "G5x7Kfgz2trk",
    "outputId": "4eb8504f-e4e6-4bb6-9c36-0cb2caead720"
   },
   "outputs": [
    {
     "name": "stdout",
     "output_type": "stream",
     "text": [
      "x_train shape : (71325, 390)\n",
      "x_test shape :  (23776, 390)\n"
     ]
    }
   ],
   "source": [
    "x=dff.drop(columns=['Total_price'])\n",
    "y=dff.Total_price\n",
    "\n",
    "#train test split:\n",
    "x_train, x_test, y_train, y_test = train_test_split(x,y, random_state=22)\n",
    "\n",
    "print('x_train shape :', x_train.shape)\n",
    "print('x_test shape : ', x_test.shape)"
   ]
  },
  {
   "cell_type": "code",
   "execution_count": 54,
   "metadata": {
    "id": "opu-755L2trl"
   },
   "outputs": [
    {
     "name": "stdout",
     "output_type": "stream",
     "text": [
      "MAE: 0.0337735531628533\n",
      "MSE: 1.202935733512786\n",
      "RMSE: 1.0967842693587404\n",
      "R2 Score: 0.9969087998413647\n"
     ]
    }
   ],
   "source": [
    "dtr = DecisionTreeRegressor()\n",
    "dtr.fit(x_train, y_train)\n",
    "y_pred = dtr.predict(x_test)\n",
    "\n",
    "print(\"MAE:\",mean_absolute_error(y_test, y_pred))\n",
    "print(\"MSE:\", mean_squared_error(y_test, y_pred))\n",
    "print(\"RMSE:\", np.sqrt(mean_squared_error(y_test, y_pred)))\n",
    "print(\"R2 Score:\", r2_score(y_test, y_pred))"
   ]
  },
  {
   "cell_type": "code",
   "execution_count": 55,
   "metadata": {
    "id": "Fgir_6nW2tru"
   },
   "outputs": [
    {
     "name": "stdout",
     "output_type": "stream",
     "text": [
      "MAE: 0.04092362045760431\n",
      "MSE: 1.8344969717362045\n",
      "RMSE: 1.354436034567969\n",
      "R2 Score: 0.9952858684200134\n"
     ]
    }
   ],
   "source": [
    "lr = LinearRegression()\n",
    "dtr.fit(x_train, y_train)\n",
    "y_pred = dtr.predict(x_test)\n",
    "\n",
    "print(\"MAE:\",mean_absolute_error(y_test, y_pred))\n",
    "print(\"MSE:\", mean_squared_error(y_test, y_pred))\n",
    "print(\"RMSE:\", np.sqrt(mean_squared_error(y_test, y_pred)))\n",
    "print(\"R2 Score:\", r2_score(y_test, y_pred))"
   ]
  },
  {
   "cell_type": "code",
   "execution_count": null,
   "metadata": {
    "id": "hG5eWUGk2tru"
   },
   "outputs": [],
   "source": []
  },
  {
   "cell_type": "code",
   "execution_count": null,
   "metadata": {},
   "outputs": [],
   "source": []
  }
 ],
 "metadata": {
  "colab": {
   "provenance": []
  },
  "kernelspec": {
   "display_name": "Python 3 (ipykernel)",
   "language": "python",
   "name": "python3"
  },
  "language_info": {
   "codemirror_mode": {
    "name": "ipython",
    "version": 3
   },
   "file_extension": ".py",
   "mimetype": "text/x-python",
   "name": "python",
   "nbconvert_exporter": "python",
   "pygments_lexer": "ipython3",
   "version": "3.9.16"
  }
 },
 "nbformat": 4,
 "nbformat_minor": 1
}
